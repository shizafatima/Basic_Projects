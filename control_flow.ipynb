{
  "nbformat": 4,
  "nbformat_minor": 0,
  "metadata": {
    "colab": {
      "provenance": [],
      "authorship_tag": "ABX9TyPAZEhqqCh/R8saQoGTqn3Z",
      "include_colab_link": true
    },
    "kernelspec": {
      "name": "python3",
      "display_name": "Python 3"
    },
    "language_info": {
      "name": "python"
    }
  },
  "cells": [
    {
      "cell_type": "markdown",
      "metadata": {
        "id": "view-in-github",
        "colab_type": "text"
      },
      "source": [
        "<a href=\"https://colab.research.google.com/github/shizafatima/Quarter1_projects/blob/main/control_flow.ipynb\" target=\"_parent\"><img src=\"https://colab.research.google.com/assets/colab-badge.svg\" alt=\"Open In Colab\"/></a>"
      ]
    },
    {
      "cell_type": "markdown",
      "source": [
        "## HIGHER LOWER GAME\n",
        "We want you to gain more experience working with control flow and Booleans in Python. To do this, we are going to have you develop a game! The game is called High-Low and the way it's played goes as follows:\n",
        "\n",
        "Two numbers are generated from 1 to 100 (inclusive on both ends): one for you and one for a computer, who will be your opponent. You can see your number, but not the computer's!\n",
        "\n",
        "You make a guess, saying your number is either higher than or lower than the computer's number\n",
        "\n",
        "If your guess matches the truth (ex. you guess your number is higher, and then your number is actually higher than the computer's), you get a point!\n",
        "\n",
        "These steps make up one round of the game. The game is over after all rounds have been played."
      ],
      "metadata": {
        "id": "dkQQ1ZzW4dOO"
      }
    },
    {
      "cell_type": "code",
      "execution_count": null,
      "metadata": {
        "colab": {
          "base_uri": "https://localhost:8080/"
        },
        "id": "oeAF9bOj3lje",
        "outputId": "1251ae69-0cac-43fd-a961-d9b2e3a8e615"
      },
      "outputs": [
        {
          "output_type": "stream",
          "name": "stdout",
          "text": [
            "Welcome To The High Low Game!\n",
            "-----------------------------\n",
            "Round  1\n",
            "Your Number is  17\n",
            "Do you think your number is higher or lower than the computer's number? lower\n",
            "You were Right. The computer's Number was:  34\n",
            "Your Score is:  1\n",
            "-----------------------------\n",
            "Round  2\n",
            "Your Number is  2\n",
            "Do you think your number is higher or lower than the computer's number? higher\n",
            "You were Right. The computer's Number was:  1\n",
            "Your Score is:  2\n",
            "-----------------------------\n",
            "Round  3\n",
            "Your Number is  96\n",
            "Do you think your number is higher or lower than the computer's number? lower\n",
            "OOPS! You were wrong. The computer's Number was:  19\n",
            "Your Score is:  2\n",
            "-----------------------------\n",
            "Round  4\n",
            "Your Number is  42\n",
            "Do you think your number is higher or lower than the computer's number? higher\n",
            "You were Right. The computer's Number was:  36\n",
            "Your Score is:  3\n",
            "-----------------------------\n",
            "Round  5\n",
            "Your Number is  44\n",
            "Do you think your number is higher or lower than the computer's number? higher\n",
            "OOPS! You were wrong. The computer's Number was:  90\n",
            "Your Score is:  3\n",
            "-----------------------------\n",
            "----------------------------------------\n",
            "Thanks for Playing! See You Next Time :)\n",
            "----------------------------------------\n",
            "Your Final Score is  3\n",
            "'Good Job! You Played Really Well.\n"
          ]
        }
      ],
      "source": [
        "import random\n",
        "NUM_ROUNDS = 5\n",
        "\n",
        "def higher_lower():\n",
        "  print(\"Welcome To The High Low Game!\")\n",
        "  print(\"-----------------------------\")\n",
        "\n",
        "  #Milestone #5: Keep track of score\n",
        "  your_score = 0\n",
        "\n",
        "  #Milestone #4: Play multiple rounds\n",
        "  for i in range(NUM_ROUNDS):\n",
        "    print(\"Round \", i +1)\n",
        "\n",
        "    #Milestone #1: Generate the random numbers\n",
        "    computer_number = random.randint(1,100)\n",
        "    your_number = random.randint(1,100)\n",
        "    print(\"Your Number is \", your_number)\n",
        "\n",
        "    # #Milestone #2: Get the user choice\n",
        "    user_guess = str(input(\"Do you think your number is higher or lower than the computer's number? \")).lower()\n",
        "\n",
        "    #Extension #1: Make sure user enter a valid choice (higher or lower)\n",
        "    while user_guess != \"higher\" and user_guess != \"lower\":\n",
        "      user_guess = str(input(\"Please Enter a Valid Choice (Higher Or Lower): \"))\n",
        "\n",
        "\n",
        "    #Milestone #3: Write the game logic\n",
        "    higher_and_correct: bool = user_guess == \"higher\" and your_number > computer_number\n",
        "    lower_and_correct: bool = user_guess == \"lower\" and your_number < computer_number\n",
        "\n",
        "    if higher_and_correct or lower_and_correct:\n",
        "      print(\"You were Right. The computer's Number was: \", computer_number)\n",
        "      your_score +=1\n",
        "    else:\n",
        "      print(\"OOPS! You were wrong. The computer's Number was: \", computer_number)\n",
        "\n",
        "    print(f\"Your Score is: \", your_score)\n",
        "    print(\"-----------------------------\")\n",
        "\n",
        "  print (\"----------------------------------------\")\n",
        "  print (\"Thanks for Playing! See You Next Time :)\")\n",
        "  print (\"----------------------------------------\")\n",
        "\n",
        "  #Extension #2: Conditional ending messages based on performance\n",
        "  print (\"Your Final Score is \", your_score)\n",
        "\n",
        "  if your_score == NUM_ROUNDS:\n",
        "    print(\"'Amazing! You Played Perfectly'\")\n",
        "  elif your_score > NUM_ROUNDS // 2:\n",
        "    print(\"'Good Job! You Played Really Well.\")\n",
        "  else:\n",
        "    print(\"'Better Luck Next Time'\")\n",
        "\n",
        "higher_lower()\n",
        "\n",
        "\n"
      ]
    }
  ]
}