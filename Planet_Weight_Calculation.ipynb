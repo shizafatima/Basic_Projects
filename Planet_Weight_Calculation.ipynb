{
  "nbformat": 4,
  "nbformat_minor": 0,
  "metadata": {
    "colab": {
      "provenance": [],
      "authorship_tag": "ABX9TyNsuyYvaEyL7QCfxOD2rPVS",
      "include_colab_link": true
    },
    "kernelspec": {
      "name": "python3",
      "display_name": "Python 3"
    },
    "language_info": {
      "name": "python"
    }
  },
  "cells": [
    {
      "cell_type": "markdown",
      "metadata": {
        "id": "view-in-github",
        "colab_type": "text"
      },
      "source": [
        "<a href=\"https://colab.research.google.com/github/shizafatima/Quarter1_projects/blob/main/Planet_Weight_Calculation.ipynb\" target=\"_parent\"><img src=\"https://colab.research.google.com/assets/colab-badge.svg\" alt=\"Open In Colab\"/></a>"
      ]
    },
    {
      "cell_type": "markdown",
      "source": [
        "##Planetary weight calculation"
      ],
      "metadata": {
        "id": "iA1L1tSmWsiq"
      }
    },
    {
      "cell_type": "code",
      "source": [
        "#planetary calculator\n",
        "# make cnostants\n",
        "MARS_CONSTANT = 0.378\n",
        "MERCURY_CONSTANT = 0.376\n",
        "VENUS_CONSTANT = 0.889\n",
        "JUPITER_CONSTANT = 2.360\n",
        "SATURN_CONSTANT = 1.081\n",
        "URANUS_CONSTANT = 0.815\n",
        "NEPTUNE_CONSTANT = 1.140\n",
        "def planetary_calculator():\n",
        "  #get user weight\n",
        "  user_weight = float(input(\"Enter your weight: \"))\n",
        "  #get planet name\n",
        "  planet_name = input(\"Enter planet name: \")\n",
        "\n",
        "  #use if else statement\n",
        "  gravity_constant = 0\n",
        "  if planet_name.lower() == \"mars\":\n",
        "    gravity_constant = MARS_CONSTANT\n",
        "  elif planet_name.lower() == \"mercury\":\n",
        "    gravity_constant = MERCURY_CONSTANT\n",
        "  elif planet_name.lower() == \"venus\":\n",
        "    gravity_constant = VENUS_CONSTANT\n",
        "  elif planet_name.lower() == \"jupiter\":\n",
        "    gravity_constant = JUPITER_CONSTANT\n",
        "  elif planet_name.lower() == \"saturn\":\n",
        "    gravity_constant = SATURN_CONSTANT\n",
        "  elif planet_name.lower() == \"uranus\":\n",
        "    gravity_constant = URANUS_CONSTANT\n",
        "  elif planet_name.lower() == \"neptune\":\n",
        "    gravity_constant = NEPTUNE_CONSTANT\n",
        "  else:\n",
        "    return \"Invalid planet name\"\n",
        "\n",
        "  #calculate weight\n",
        "  weight = round(user_weight * gravity_constant, 2)\n",
        "  print(f\"Your weight on {planet_name} is {weight}\")\n",
        "\n",
        "planetary_calculator()\n"
      ],
      "metadata": {
        "colab": {
          "base_uri": "https://localhost:8080/"
        },
        "id": "ZFoalYe1H4Fq",
        "outputId": "26188f15-aac2-4c66-f2b1-22c4cf939b17"
      },
      "execution_count": 11,
      "outputs": [
        {
          "output_type": "stream",
          "name": "stdout",
          "text": [
            "Enter your weight: 78\n",
            "Enter planet name: saturn\n",
            "Your weight on saturn is 84.32\n"
          ]
        }
      ]
    },
    {
      "cell_type": "code",
      "source": [
        "planetary_calculator()"
      ],
      "metadata": {
        "colab": {
          "base_uri": "https://localhost:8080/"
        },
        "id": "DQYpaBa1OdY3",
        "outputId": "3e928985-7ede-40b2-85ed-fefc9afafb7a"
      },
      "execution_count": 10,
      "outputs": [
        {
          "output_type": "stream",
          "name": "stdout",
          "text": [
            "Enter your weight: 56\n",
            "Enter planet name: jupiter\n",
            "Your weight on jupiter is 132.16\n"
          ]
        }
      ]
    }
  ]
}