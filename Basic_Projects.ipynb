{
  "nbformat": 4,
  "nbformat_minor": 0,
  "metadata": {
    "colab": {
      "provenance": [],
      "authorship_tag": "ABX9TyPQxSfP3ZOgDrHTTSAV8yiP",
      "include_colab_link": true
    },
    "kernelspec": {
      "name": "python3",
      "display_name": "Python 3"
    },
    "language_info": {
      "name": "python"
    }
  },
  "cells": [
    {
      "cell_type": "markdown",
      "metadata": {
        "id": "view-in-github",
        "colab_type": "text"
      },
      "source": [
        "<a href=\"https://colab.research.google.com/github/shizafatima/Basic_projects/blob/main/Basic_Projects.ipynb\" target=\"_parent\"><img src=\"https://colab.research.google.com/assets/colab-badge.svg\" alt=\"Open In Colab\"/></a>"
      ]
    },
    {
      "cell_type": "markdown",
      "source": [
        "## JOKE BOT\n",
        "Write a simple joke bot. The bot starts by asking the user what they want. However, your program will only respond to one response: Joke.\n",
        "\n",
        "If the user enters Joke then we will print out a single joke. Each time the joke is always the same:\n",
        "\n",
        "Here is a joke for you! Panaversity GPT - Sophia is heading out to the grocery store. A programmer tells her: get a liter of milk, and if they have eggs, get 12. Sophia returns with 13 liters of milk. The programmer asks why and Sophia replies: 'because they had eggs'\n",
        "\n",
        "If the user enters anything else we print out:\n",
        "\n",
        "Sorry I only tell jokes\n"
      ],
      "metadata": {
        "id": "tRk7mAgbOfBn"
      }
    },
    {
      "cell_type": "code",
      "source": [
        "PROMPT : str = \"What do you want? \"\n",
        "JOKE : str = \"Here is a joke for you! Sophia is heading out to the grocery store. A programmer tells her: get a liter of milk, and if they have eggs, get 12. Sophia returns with 13 liters of milk. The programmer asks why and Sophia replies: 'because they had eggs'\"\n",
        "SORRY : str = \"I only tell jokes\"\n",
        "def joke_bot():\n",
        "  #use if else statements\n",
        "  user_input = input(PROMPT)\n",
        "  if user_input.lower() == \"joke\":\n",
        "    print(JOKE)\n",
        "  else:\n",
        "    print(SORRY)\n",
        "joke_bot()"
      ],
      "metadata": {
        "colab": {
          "base_uri": "https://localhost:8080/"
        },
        "id": "l-2A1-I6OqJ8",
        "outputId": "18b284e2-b34e-4bf9-bc23-01777340df91"
      },
      "execution_count": null,
      "outputs": [
        {
          "output_type": "stream",
          "name": "stdout",
          "text": [
            "What do you want? joke\n",
            "Here is a joke for you! Sophia is heading out to the grocery store. A programmer tells her: get a liter of milk, and if they have eggs, get 12. Sophia returns with 13 liters of milk. The programmer asks why and Sophia replies: 'because they had eggs'\n"
          ]
        }
      ]
    },
    {
      "cell_type": "markdown",
      "source": [
        "## DOUBLE IT\n",
        "Write a program that asks a user to enter a number. Your program will then double that number and print out the result. It will repeat that process until the value is 100 or greater.\n",
        "\n",
        "For example if the user enters the number 2 you would then print:\n",
        "\n",
        "4 8 16 32 64 128\n",
        "\n",
        "Note that:\n",
        "\n",
        "2 doubled is 4\n",
        "\n",
        "4 doubled is 8\n",
        "\n",
        "8 doubled is 16\n",
        "\n",
        "and so on.\n",
        "\n",
        "We stop at 128 because that value is greater than 100.\n",
        "\n",
        "Maintain the current number in a variable named curr_value. When you double the number, you should be updating curr_value. Recall that you can double the value of curr_value using a line like:\n",
        "\n",
        "curr_value = curr_value * 2\n",
        "\n",
        "This program should have a while loop and the while loop condition should test if curr_value is less than 100. Thus, your program will have the line:\n",
        "\n",
        "while curr_value < 100:"
      ],
      "metadata": {
        "id": "JrIv4L1fQvGx"
      }
    },
    {
      "cell_type": "code",
      "source": [
        "def double_it():\n",
        "  #get user input\n",
        "  curr_value = int(input(\"Enter a Number: \"))\n",
        "  # use a while loop\n",
        "  while curr_value < 100:\n",
        "    curr_value = curr_value *2\n",
        "    print (curr_value, end=\" \")\n",
        "double_it()"
      ],
      "metadata": {
        "colab": {
          "base_uri": "https://localhost:8080/"
        },
        "id": "mklTIEFPRaNS",
        "outputId": "42112db3-993d-4ed6-a202-4eade4333b55"
      },
      "execution_count": null,
      "outputs": [
        {
          "output_type": "stream",
          "name": "stdout",
          "text": [
            "Enter a Number: 2\n",
            "4 8 16 32 64 128 "
          ]
        }
      ]
    },
    {
      "cell_type": "markdown",
      "source": [
        "## LIFT OFF\n",
        "Write a program that prints out the calls for a spaceship that is about to launch. Countdown from 10 to 1 and then output Liftoff!\n",
        "\n",
        "Here's a sample run of the program:\n",
        "\n",
        "10 9 8 7 6 5 4 3 2 1 Liftoff!\n",
        "\n",
        "There are many ways to solve this problem. One approach is to use a for loop, and to use the for loop variable i. Recall that i will keep track of how many times the for loop has completed executing its body. As an example this code:\n",
        "\n",
        "for i in range(10): print(i)\n",
        "\n",
        "Will print out the values 0, 1, 2, 3, 4, 5, 6, 7, 8, 9. The values printed in liftoff are 10 minus the number of times the for loop has completed."
      ],
      "metadata": {
        "id": "mSQWzCujSniY"
      }
    },
    {
      "cell_type": "code",
      "source": [
        "def lift_off():\n",
        "  #use a for loop to launch a space ship\n",
        "  for i in range(10, 0, -1):\n",
        "    print (i, end=\" \")\n",
        "  print (\"Liftoff!\")\n",
        "lift_off()"
      ],
      "metadata": {
        "colab": {
          "base_uri": "https://localhost:8080/"
        },
        "id": "fxcu00kNS5tY",
        "outputId": "278ce981-9a06-4c6c-9b86-c95f7e94fc92"
      },
      "execution_count": null,
      "outputs": [
        {
          "output_type": "stream",
          "name": "stdout",
          "text": [
            "10 9 8 7 6 5 4 3 2 1 Liftoff!\n"
          ]
        }
      ]
    },
    {
      "cell_type": "markdown",
      "source": [
        "## GUESS MY NUMBER\n",
        "I am thinking of a number between 0 and 99... Enter a guess: 50 Your guess is too high\n",
        "\n",
        "Enter a new number: 25 Your guess is too low\n",
        "\n",
        "Enter a new number: 40 Your guess is too low\n",
        "\n",
        "Enter a new number: 45 Your guess is too low\n",
        "\n",
        "Enter a new number: 48 Congrats! The number was: 48"
      ],
      "metadata": {
        "id": "971-ZQ4vTn52"
      }
    },
    {
      "cell_type": "code",
      "source": [
        "#1. GENERATE A RANDOM NUMBER\n",
        "import random\n",
        "computer_num : int = random.randint(0,99)\n",
        "print(\"I am thinking of a number between 0 to 99\")\n",
        "#2.GET USER INPUT AND NO OF ATTEMPTS AND WHILE LOOP\n",
        "allowed_attempts: int = 5\n",
        "user_attempts: int = 0\n",
        "while user_attempts < allowed_attempts:\n",
        "  print(f\"Attempts left: {allowed_attempts - user_attempts}\")\n",
        "  user_guess : int = int(input(\"Enter a guess: \"))\n",
        "  user_attempts += 1\n",
        "  if (user_attempts == allowed_attempts):\n",
        "    print(\"Game Over. Sorry, you ran out of attempts. The number was:\", computer_num)\n",
        "    break\n",
        "#3. IF ELSE STAEMENT\n",
        "  if user_guess == computer_num:\n",
        "      print(\"Congrats! The number was:\", computer_num)\n",
        "      break\n",
        "  if user_guess > computer_num:\n",
        "    print(\"Your guess is too high\")\n",
        "  elif user_guess < computer_num:\n",
        "    print(\"Your guess is too low\")\n",
        "  else:\n",
        "    print(\"Invalid input. Please enter number between 0 to 99\")\n"
      ],
      "metadata": {
        "colab": {
          "base_uri": "https://localhost:8080/"
        },
        "id": "W_z7nqCuwPM6",
        "outputId": "d6f50359-ab99-49f3-c1a8-02e252b22b95"
      },
      "execution_count": 9,
      "outputs": [
        {
          "output_type": "stream",
          "name": "stdout",
          "text": [
            "I am thinking of a number between 0 to 99\n",
            "Attempts left: 5\n",
            "Enter a guess: 56\n",
            "Your guess is too high\n",
            "Attempts left: 4\n",
            "Enter a guess: 34\n",
            "Your guess is too high\n",
            "Attempts left: 3\n",
            "Enter a guess: 23\n",
            "Congrats! The number was: 23\n"
          ]
        }
      ]
    },
    {
      "cell_type": "markdown",
      "source": [
        "## RANDOM NUMBERS\n",
        "Print 10 random numbers in the range 1 to 100.\n",
        "\n",
        "Here is an example run:\n",
        "\n",
        "45 79 61 47 52 10 16 83 19 12\n",
        "\n",
        "Each time you run your program you should get different numbers\n",
        "\n",
        "81 76 70 1 27 63 96 100 32 92\n",
        "\n",
        "Recall that the python random library has a function randint which returns an integer in the range set by the parameters (inclusive). For example this call would produce a random integer between 1 and 6, which could include 1 and could include 6:\n",
        "\n",
        "value = random.randint(1, 6)"
      ],
      "metadata": {
        "id": "p19sGPGszydL"
      }
    },
    {
      "cell_type": "code",
      "source": [
        "#1. PRINT RANDOM NUMBER. EVERY TIME THE PROGRAM RUNS IT GENERATE DIFFERENT NUMBERS\n",
        "N_NUMBERS : int = 10\n",
        "MIN_NUM : int = 0\n",
        "MAX_NUM : int = 100\n",
        "\n",
        "import random\n",
        "def random_num():\n",
        "  for i in range(10):\n",
        "    print(random.randint(0, 100), end=\" \")\n",
        "random_num()"
      ],
      "metadata": {
        "colab": {
          "base_uri": "https://localhost:8080/"
        },
        "id": "fSmwGsXA0Ki6",
        "outputId": "e10aa1fb-033b-4d41-e494-e595aa62d1b8"
      },
      "execution_count": null,
      "outputs": [
        {
          "output_type": "stream",
          "name": "stdout",
          "text": [
            "8 80 0 58 39 89 33 71 75 36 "
          ]
        }
      ]
    }
  ]
}